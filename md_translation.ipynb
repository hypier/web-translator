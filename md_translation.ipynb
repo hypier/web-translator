{
 "cells": [
  {
   "cell_type": "code",
   "execution_count": null,
   "id": "e260d4011323db2",
   "metadata": {},
   "outputs": [],
   "source": [
    "%pip install -q langchain langchain_openai python-dotenv portkey-ai pyyaml html5lib"
   ]
  },
  {
   "cell_type": "code",
   "execution_count": 2,
   "id": "daa67cc0",
   "metadata": {
    "ExecuteTime": {
     "end_time": "2024-07-31T03:34:21.854625Z",
     "start_time": "2024-07-31T03:34:21.796683Z"
    }
   },
   "outputs": [
    {
     "data": {
      "text/plain": [
       "9"
      ]
     },
     "execution_count": 2,
     "metadata": {},
     "output_type": "execute_result"
    }
   ],
   "source": [
    "from pathlib import Path\n",
    "import shutil\n",
    "\n",
    "domain = \"docs.openroleplay.ai\"\n",
    "\n",
    "source_dir = Path(\"/Users/barry/Code/web/openroleplay.ai/apps/docs\")\n",
    "translated_dir = Path(\"./translated\") / domain\n",
    "\n",
    "# 确保目标目录存在\n",
    "translated_dir.mkdir(parents=True, exist_ok=True)\n",
    "\n",
    "all_html_files = []\n",
    "# 遍历源目录下的所有文件并拷贝到目标目录\n",
    "for file_path in source_dir.glob('**/*'):\n",
    "    if file_path.is_file() and '.git' not in file_path.parts:\n",
    "        # 计算目标文件路径\n",
    "        target_path = translated_dir / file_path.relative_to(source_dir)\n",
    "        # 确保目标文件的父目录存在\n",
    "        target_path.parent.mkdir(parents=True, exist_ok=True)\n",
    "        # 拷贝文件\n",
    "        shutil.copy2(file_path, target_path)\n",
    "\n",
    "\n",
    "all_files_gen = translated_dir.rglob(\"*\")\n",
    "all_files = [f.resolve() for f in all_files_gen]\n",
    "all_md_files = [f for f in all_files if f.suffix.lower() == \".mdx\"]\n",
    "len(all_md_files)"
   ]
  },
  {
   "cell_type": "code",
   "execution_count": 4,
   "id": "67058c8d5cd235f7",
   "metadata": {
    "ExecuteTime": {
     "end_time": "2024-07-31T04:34:29.455637Z",
     "start_time": "2024-07-31T04:23:10.953753Z"
    }
   },
   "outputs": [
    {
     "name": "stdout",
     "output_type": "stream",
     "text": [
      "Processing /Users/barry/Code/ipynb/web-translator/translated/docs.openroleplay.ai/pages/index.mdx (1/9)\n",
      "Translating document 1 of 1\n",
      "Processing /Users/barry/Code/ipynb/web-translator/translated/docs.openroleplay.ai/pages/images.mdx (2/9)\n",
      "Translating document 1 of 5\n",
      "Translating document 2 of 5\n",
      "Translating document 3 of 5\n",
      "Translating document 4 of 5\n",
      "Translating document 5 of 5\n",
      "Processing /Users/barry/Code/ipynb/web-translator/translated/docs.openroleplay.ai/pages/community_guidelines.mdx (3/9)\n",
      "Translating document 1 of 10\n",
      "Translating document 2 of 10\n",
      "Translating document 3 of 10\n",
      "Translating document 4 of 10\n",
      "Translating document 5 of 10\n",
      "Translating document 6 of 10\n",
      "Translating document 7 of 10\n",
      "Translating document 8 of 10\n",
      "Translating document 9 of 10\n",
      "Translating document 10 of 10\n",
      "Processing /Users/barry/Code/ipynb/web-translator/translated/docs.openroleplay.ai/pages/characters/visibility.mdx (4/9)\n",
      "Translating document 1 of 1\n",
      "Processing /Users/barry/Code/ipynb/web-translator/translated/docs.openroleplay.ai/pages/characters/instruction.mdx (5/9)\n",
      "Translating document 1 of 1\n",
      "Processing /Users/barry/Code/ipynb/web-translator/translated/docs.openroleplay.ai/pages/characters/name.mdx (6/9)\n",
      "Translating document 1 of 1\n",
      "Processing /Users/barry/Code/ipynb/web-translator/translated/docs.openroleplay.ai/pages/characters/greeting.mdx (7/9)\n",
      "Translating document 1 of 1\n",
      "Processing /Users/barry/Code/ipynb/web-translator/translated/docs.openroleplay.ai/pages/characters/description.mdx (8/9)\n",
      "Translating document 1 of 1\n",
      "Processing /Users/barry/Code/ipynb/web-translator/translated/docs.openroleplay.ai/pages/characters/character_card.mdx (9/9)\n",
      "Translating document 1 of 2\n",
      "Translating document 2 of 2\n",
      "Translated !!!\n"
     ]
    }
   ],
   "source": [
    "from md_translation import md_translate\n",
    "from utils.file import read_file, write_file\n",
    "\n",
    "index = 0\n",
    "list = all_md_files\n",
    "\n",
    "errors = []\n",
    "for file_path in list:\n",
    "    index += 1\n",
    "    print(f\"Processing {file_path} ({index}/{len(list)})\")\n",
    "\n",
    "    content = read_file(file_path)\n",
    "    translated = md_translate(content)\n",
    "    \n",
    "    write_file(file_path, translated)\n",
    "    \n",
    "print(f\"Translated !!!\")\n",
    "    \n",
    "\n"
   ]
  },
  {
   "cell_type": "code",
   "execution_count": null,
   "id": "1198edfb",
   "metadata": {},
   "outputs": [],
   "source": []
  }
 ],
 "metadata": {
  "kernelspec": {
   "display_name": "Python 3",
   "language": "python",
   "name": "python3"
  },
  "language_info": {
   "codemirror_mode": {
    "name": "ipython",
    "version": 3
   },
   "file_extension": ".py",
   "mimetype": "text/x-python",
   "name": "python",
   "nbconvert_exporter": "python",
   "pygments_lexer": "ipython3",
   "version": "3.12.4"
  }
 },
 "nbformat": 4,
 "nbformat_minor": 5
}
