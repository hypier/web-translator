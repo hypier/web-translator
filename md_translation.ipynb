{
 "cells": [
  {
   "cell_type": "code",
   "id": "e260d4011323db2",
   "metadata": {},
   "source": [
    "%pip install -q langchain langchain_openai python-dotenv portkey-ai pyyaml html5lib"
   ],
   "outputs": [],
   "execution_count": null
  },
  {
   "cell_type": "code",
   "id": "daa67cc0",
   "metadata": {},
   "source": [
    "from pathlib import Path\n",
    "import shutil\n",
    "\n",
    "domain = \"docs.openroleplay.ai\"\n",
    "\n",
    "source_dir = Path(\"/Users/barry/Code/web/openroleplay.ai/apps/docs\")\n",
    "translated_dir = Path(\"./translated\") / domain\n",
    "\n",
    "# 确保目标目录存在\n",
    "translated_dir.mkdir(parents=True, exist_ok=True)\n",
    "\n",
    "# 遍历源目录下的所有文件并拷贝到目标目录\n",
    "for file_path in source_dir.glob('**/*'):\n",
    "    if file_path.is_file() and '.git' not in file_path.parts:\n",
    "        # 计算目标文件路径\n",
    "        target_path = translated_dir / file_path.relative_to(source_dir)\n",
    "        # 确保目标文件的父目录存在\n",
    "        target_path.parent.mkdir(parents=True, exist_ok=True)\n",
    "        # 拷贝文件\n",
    "        shutil.copy2(file_path, target_path)\n",
    "\n",
    "\n",
    "all_files_gen = translated_dir.rglob(\"*\")\n",
    "all_files = [f.resolve() for f in all_files_gen]\n",
    "all_md_files = sorted([f for f in all_files if f.suffix.lower() in [\".md\", \".mdx\"]], key=lambda x: x.name)\n",
    "len(all_md_files)"
   ],
   "outputs": [],
   "execution_count": null
  },
  {
   "cell_type": "code",
   "id": "e4c1b9cf72578c2b",
   "metadata": {},
   "source": [
    "from pathlib import Path\n",
    "source_dir = Path(\"docs\")\n",
    "\n",
    "\n",
    "all_files_gen = source_dir.rglob(\"*\")\n",
    "all_files = [f.resolve() for f in all_files_gen]\n",
    "all_md_files = sorted([f for f in all_files if f.suffix.lower() in [\".md\", \".mdx\"]], key=lambda x: x.name)\n",
    "len(all_md_files)"
   ],
   "outputs": [],
   "execution_count": null
  },
  {
   "cell_type": "code",
   "id": "e4cca80ce3ddb3c8",
   "metadata": {},
   "source": [
    "all_md_files[1140:1160]"
   ],
   "outputs": [],
   "execution_count": null
  },
  {
   "cell_type": "code",
   "id": "67058c8d5cd235f7",
   "metadata": {},
   "source": [
    "from md_translation import md_translate\n",
    "from utils.file import read_file, write_file\n",
    "\n",
    "index = 0\n",
    "list = [\"/Users/barry/Code/python/langchain/README.md\"]\n",
    "\n",
    "errors = []\n",
    "for file_path in list:\n",
    "    index += 1\n",
    "    print(f\"Processing {file_path} ({index}/{len(list)})\")\n",
    "\n",
    "    content = read_file(file_path)\n",
    "    translated = md_translate(content)\n",
    "    \n",
    "    write_file(file_path, translated)\n",
    "    \n",
    "print(f\"Translated !!!\")\n",
    "    "
   ],
   "outputs": [],
   "execution_count": null
  },
  {
   "metadata": {},
   "cell_type": "code",
   "source": "",
   "id": "ff7492bcd0b44213",
   "outputs": [],
   "execution_count": null
  }
 ],
 "metadata": {
  "kernelspec": {
   "display_name": "Python 3",
   "language": "python",
   "name": "python3"
  },
  "language_info": {
   "codemirror_mode": {
    "name": "ipython",
    "version": 3
   },
   "file_extension": ".py",
   "mimetype": "text/x-python",
   "name": "python",
   "nbconvert_exporter": "python",
   "pygments_lexer": "ipython3",
   "version": "3.12.4"
  }
 },
 "nbformat": 4,
 "nbformat_minor": 5
}
