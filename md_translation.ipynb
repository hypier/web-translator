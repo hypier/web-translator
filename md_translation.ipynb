{
 "cells": [
  {
   "cell_type": "code",
   "execution_count": null,
   "id": "e260d4011323db2",
   "metadata": {},
   "outputs": [],
   "source": [
    "%pip install -q langchain langchain_openai python-dotenv portkey-ai pyyaml html5lib"
   ]
  },
  {
   "cell_type": "code",
   "execution_count": null,
   "id": "daa67cc0",
   "metadata": {},
   "outputs": [],
   "source": [
    "from pathlib import Path\n",
    "import shutil\n",
    "\n",
    "domain = \"docs.openroleplay.ai\"\n",
    "\n",
    "source_dir = Path(\"/Users/barry/Code/web/openroleplay.ai/apps/docs\")\n",
    "translated_dir = Path(\"./translated\") / domain\n",
    "\n",
    "# 确保目标目录存在\n",
    "translated_dir.mkdir(parents=True, exist_ok=True)\n",
    "\n",
    "# 遍历源目录下的所有文件并拷贝到目标目录\n",
    "for file_path in source_dir.glob('**/*'):\n",
    "    if file_path.is_file() and '.git' not in file_path.parts:\n",
    "        # 计算目标文件路径\n",
    "        target_path = translated_dir / file_path.relative_to(source_dir)\n",
    "        # 确保目标文件的父目录存在\n",
    "        target_path.parent.mkdir(parents=True, exist_ok=True)\n",
    "        # 拷贝文件\n",
    "        shutil.copy2(file_path, target_path)\n",
    "\n",
    "\n",
    "all_files_gen = translated_dir.rglob(\"*\")\n",
    "all_files = [f.resolve() for f in all_files_gen]\n",
    "all_md_files = sorted([f for f in all_files if f.suffix.lower() in [\".md\", \".mdx\"]], key=lambda x: x.name)\n",
    "len(all_md_files)"
   ]
  },
  {
   "cell_type": "code",
   "execution_count": 2,
   "id": "e4c1b9cf72578c2b",
   "metadata": {
    "ExecuteTime": {
     "end_time": "2024-08-04T06:33:51.541829Z",
     "start_time": "2024-08-04T06:33:51.355591Z"
    }
   },
   "outputs": [
    {
     "data": {
      "text/plain": [
       "1370"
      ]
     },
     "execution_count": 2,
     "metadata": {},
     "output_type": "execute_result"
    }
   ],
   "source": [
    "from pathlib import Path\n",
    "source_dir = Path(\"docs\")\n",
    "\n",
    "\n",
    "all_files_gen = source_dir.rglob(\"*\")\n",
    "all_files = [f.resolve() for f in all_files_gen]\n",
    "all_md_files = sorted([f for f in all_files if f.suffix.lower() in [\".md\", \".mdx\"]], key=lambda x: x.name)\n",
    "len(all_md_files)"
   ]
  },
  {
   "cell_type": "code",
   "execution_count": 4,
   "id": "e4cca80ce3ddb3c8",
   "metadata": {
    "ExecuteTime": {
     "end_time": "2024-08-04T06:33:52.236268Z",
     "start_time": "2024-08-04T06:33:52.229926Z"
    }
   },
   "outputs": [
    {
     "data": {
      "text/plain": [
       "[PosixPath('/workspaces/web-translator/docs/templates/sql-llama2.md'),\n",
       " PosixPath('/workspaces/web-translator/docs/templates/sql-llamacpp.md'),\n",
       " PosixPath('/workspaces/web-translator/docs/templates/sql-ollama.md'),\n",
       " PosixPath('/workspaces/web-translator/docs/templates/sql-pgvector.md'),\n",
       " PosixPath('/workspaces/web-translator/docs/templates/sql-research-assistant.md'),\n",
       " PosixPath('/workspaces/web-translator/docs/integrations/memory/sql_chat_message_history.md'),\n",
       " PosixPath('/workspaces/web-translator/docs/how_to/sql_csv.md'),\n",
       " PosixPath('/workspaces/web-translator/docs/integrations/toolkits/sql_database.md'),\n",
       " PosixPath('/workspaces/web-translator/docs/integrations/tools/sql_database.md'),\n",
       " PosixPath('/workspaces/web-translator/docs/how_to/sql_large_db.md'),\n",
       " PosixPath('/workspaces/web-translator/docs/how_to/sql_prompting.md'),\n",
       " PosixPath('/workspaces/web-translator/docs/tutorials/sql_qa.md'),\n",
       " PosixPath('/workspaces/web-translator/docs/how_to/sql_query_checking.md'),\n",
       " PosixPath('/workspaces/web-translator/docs/integrations/memory/sqlite.md')]"
      ]
     },
     "execution_count": 4,
     "metadata": {},
     "output_type": "execute_result"
    }
   ],
   "source": [
    "all_md_files[1136:1150]"
   ]
  },
  {
   "cell_type": "code",
   "execution_count": 6,
   "id": "67058c8d5cd235f7",
   "metadata": {
    "ExecuteTime": {
     "end_time": "2024-08-04T07:31:13.164334Z",
     "start_time": "2024-08-04T07:28:30.393581Z"
    }
   },
   "outputs": [
    {
     "name": "stdout",
     "output_type": "stream",
     "text": [
      "Processing /workspaces/web-translator/docs/tutorials/sql_qa.md (1/223)\n",
      "Translating document 1 of 13\n",
      "Translating document 2 of 13\n",
      "Translating document 3 of 13\n",
      "Translating document 4 of 13\n",
      "Translating document 5 of 13\n",
      "Translating document 6 of 13\n",
      "Translating document 7 of 13\n",
      "Translating document 8 of 13\n"
     ]
    }
   ],
   "source": [
    "from md_translation import md_translate\n",
    "from utils.file import read_file, write_file\n",
    "\n",
    "index = 0\n",
    "list = all_md_files[1147:]\n",
    "\n",
    "errors = []\n",
    "for file_path in list:\n",
    "    index += 1\n",
    "    print(f\"Processing {file_path} ({index}/{len(list)})\")\n",
    "\n",
    "    content = read_file(file_path)\n",
    "    translated = md_translate(content)\n",
    "    \n",
    "    write_file(file_path, translated)\n",
    "    \n",
    "print(f\"Translated !!!\")\n",
    "    "
   ]
  }
 ],
 "metadata": {
  "kernelspec": {
   "display_name": "Python 3",
   "language": "python",
   "name": "python3"
  },
  "language_info": {
   "codemirror_mode": {
    "name": "ipython",
    "version": 3
   },
   "file_extension": ".py",
   "mimetype": "text/x-python",
   "name": "python",
   "nbconvert_exporter": "python",
   "pygments_lexer": "ipython3",
   "version": "3.10.13"
  }
 },
 "nbformat": 4,
 "nbformat_minor": 5
}
